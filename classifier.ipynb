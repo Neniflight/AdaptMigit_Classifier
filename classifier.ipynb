{
 "cells": [
  {
   "cell_type": "code",
   "execution_count": 31,
   "metadata": {},
   "outputs": [],
   "source": [
    "import pandas as pd\n",
    "import numpy as np\n",
    "import nltk\n",
    "from nltk.corpus import stopwords\n",
    "\n",
    "from sklearn.model_selection import train_test_split\n",
    "from sklearn.feature_extraction.text import CountVectorizer\n",
    "from sklearn.feature_extraction.text import TfidfVectorizer\n",
    "from sklearn.linear_model import LogisticRegression\n",
    "from sklearn.naive_bayes import MultinomialNB\n",
    "from sklearn.metrics import accuracy_score, precision_recall_fscore_support\n",
    "\n",
    "from imblearn.over_sampling import SMOTE\n",
    "from imblearn.over_sampling import RandomOverSampler\n",
    "\n"
   ]
  },
  {
   "cell_type": "markdown",
   "metadata": {},
   "source": [
    "# Goal: Classify a policy into adaptation or mitigation \n",
    "Due to the inherent imbalance in the dataset, accuracy will not be a good measure of performance for our models. Recall is slightly more important than precision here. Since we defined Adaptation as 1 and Mitigation as 0 and there are way more mitigation, we need to be very careful of our model labeling adaptation as mitigation (false negatives). \n",
    "<br>\n",
    "<br>\n",
    "Ideally, lets pick a model with > 0.7 F1 score because that is the industry standard with imbalanced datasets"
   ]
  },
  {
   "cell_type": "code",
   "execution_count": 32,
   "metadata": {},
   "outputs": [],
   "source": [
    "def f1_score_adj(prec, rec):\n",
    "    #the higher the beta, the more emphasis is put on recall\n",
    "    beta = 2\n",
    "    return (1 + beta**2) * ((prec * rec)/((beta**2 * prec) + rec))"
   ]
  },
  {
   "cell_type": "code",
   "execution_count": 33,
   "metadata": {},
   "outputs": [],
   "source": [
    "data = pd.read_csv(\"data/20240301_San_Diego_AM_Policies.csv\")\n",
    "data[\"Policy\"] = data[\"Policy\"].astype(str)"
   ]
  },
  {
   "cell_type": "code",
   "execution_count": 34,
   "metadata": {},
   "outputs": [
    {
     "data": {
      "text/html": [
       "<div>\n",
       "<style scoped>\n",
       "    .dataframe tbody tr th:only-of-type {\n",
       "        vertical-align: middle;\n",
       "    }\n",
       "\n",
       "    .dataframe tbody tr th {\n",
       "        vertical-align: top;\n",
       "    }\n",
       "\n",
       "    .dataframe thead th {\n",
       "        text-align: right;\n",
       "    }\n",
       "</style>\n",
       "<table border=\"1\" class=\"dataframe\">\n",
       "  <thead>\n",
       "    <tr style=\"text-align: right;\">\n",
       "      <th></th>\n",
       "      <th>Class</th>\n",
       "      <th>Policy</th>\n",
       "    </tr>\n",
       "  </thead>\n",
       "  <tbody>\n",
       "    <tr>\n",
       "      <th>0</th>\n",
       "      <td>Mitigation</td>\n",
       "      <td>Implement and enforce Title 18, Chapter 18.30,...</td>\n",
       "    </tr>\n",
       "    <tr>\n",
       "      <th>1</th>\n",
       "      <td>Mitigation</td>\n",
       "      <td>Implement and enforce Title 18, Chapter 18.30,...</td>\n",
       "    </tr>\n",
       "    <tr>\n",
       "      <th>2</th>\n",
       "      <td>Mitigation</td>\n",
       "      <td>Publicize available incentive and rebate progr...</td>\n",
       "    </tr>\n",
       "    <tr>\n",
       "      <th>3</th>\n",
       "      <td>Mitigation</td>\n",
       "      <td>Create a citywide “Energy Challenge,” similar ...</td>\n",
       "    </tr>\n",
       "    <tr>\n",
       "      <th>4</th>\n",
       "      <td>Mitigation</td>\n",
       "      <td>Implement and enforce Title 18, Chapter 18.30,...</td>\n",
       "    </tr>\n",
       "  </tbody>\n",
       "</table>\n",
       "</div>"
      ],
      "text/plain": [
       "        Class                                             Policy\n",
       "0  Mitigation  Implement and enforce Title 18, Chapter 18.30,...\n",
       "1  Mitigation  Implement and enforce Title 18, Chapter 18.30,...\n",
       "2  Mitigation  Publicize available incentive and rebate progr...\n",
       "3  Mitigation  Create a citywide “Energy Challenge,” similar ...\n",
       "4  Mitigation  Implement and enforce Title 18, Chapter 18.30,..."
      ]
     },
     "execution_count": 34,
     "metadata": {},
     "output_type": "execute_result"
    }
   ],
   "source": [
    "data.head(5)"
   ]
  },
  {
   "cell_type": "markdown",
   "metadata": {},
   "source": [
    "# Data Cleaning"
   ]
  },
  {
   "cell_type": "markdown",
   "metadata": {},
   "source": [
    "We will be preprocessing the data in the following ways:\n",
    "- removing stopwords, unnecessary punctation, capitalization\n",
    "- converting Mitigation and Adaption Classes to 0 and 1 Respectively "
   ]
  },
  {
   "cell_type": "code",
   "execution_count": 35,
   "metadata": {},
   "outputs": [],
   "source": [
    "# nltk.download('stopwords')"
   ]
  },
  {
   "cell_type": "code",
   "execution_count": 36,
   "metadata": {},
   "outputs": [],
   "source": [
    "data[\"Policy\"] = data[\"Policy\"].str.lower()\n",
    "data[\"Policy\"] = data[\"Policy\"].apply(lambda x: \" \".join([word for word in x.split() if word not in stopwords.words(\"english\")]))\n",
    "data[\"Policy\"] = data[\"Policy\"].str.replace(\",\", \"\").str.replace(\"“\", \"\").str.replace(\"”\", \"\").str.replace(\"(\", \"\").str.replace(\")\", \"\")"
   ]
  },
  {
   "cell_type": "code",
   "execution_count": 37,
   "metadata": {},
   "outputs": [
    {
     "data": {
      "text/html": [
       "<div>\n",
       "<style scoped>\n",
       "    .dataframe tbody tr th:only-of-type {\n",
       "        vertical-align: middle;\n",
       "    }\n",
       "\n",
       "    .dataframe tbody tr th {\n",
       "        vertical-align: top;\n",
       "    }\n",
       "\n",
       "    .dataframe thead th {\n",
       "        text-align: right;\n",
       "    }\n",
       "</style>\n",
       "<table border=\"1\" class=\"dataframe\">\n",
       "  <thead>\n",
       "    <tr style=\"text-align: right;\">\n",
       "      <th></th>\n",
       "      <th>Class</th>\n",
       "      <th>Policy</th>\n",
       "    </tr>\n",
       "  </thead>\n",
       "  <tbody>\n",
       "    <tr>\n",
       "      <th>0</th>\n",
       "      <td>Mitigation</td>\n",
       "      <td>implement enforce title 18 chapter 18.30 secti...</td>\n",
       "    </tr>\n",
       "    <tr>\n",
       "      <th>1</th>\n",
       "      <td>Mitigation</td>\n",
       "      <td>implement enforce title 18 chapter 18.30 secti...</td>\n",
       "    </tr>\n",
       "    <tr>\n",
       "      <th>2</th>\n",
       "      <td>Mitigation</td>\n",
       "      <td>publicize available incentive rebate programs ...</td>\n",
       "    </tr>\n",
       "    <tr>\n",
       "      <th>3</th>\n",
       "      <td>Mitigation</td>\n",
       "      <td>create citywide energy challenge similar depar...</td>\n",
       "    </tr>\n",
       "    <tr>\n",
       "      <th>4</th>\n",
       "      <td>Mitigation</td>\n",
       "      <td>implement enforce title 18 chapter 18.30 secti...</td>\n",
       "    </tr>\n",
       "    <tr>\n",
       "      <th>...</th>\n",
       "      <td>...</td>\n",
       "      <td>...</td>\n",
       "    </tr>\n",
       "    <tr>\n",
       "      <th>1587</th>\n",
       "      <td>Mitigation</td>\n",
       "      <td>complete pv installation public works yard car...</td>\n",
       "    </tr>\n",
       "    <tr>\n",
       "      <th>1588</th>\n",
       "      <td>Mitigation</td>\n",
       "      <td>join program increase grid-supply renewable ze...</td>\n",
       "    </tr>\n",
       "    <tr>\n",
       "      <th>1589</th>\n",
       "      <td>Mitigation</td>\n",
       "      <td>work waste haulers set citywide solid waste re...</td>\n",
       "    </tr>\n",
       "    <tr>\n",
       "      <th>1590</th>\n",
       "      <td>Mitigation</td>\n",
       "      <td>develop program track tree planting maintenanc...</td>\n",
       "    </tr>\n",
       "    <tr>\n",
       "      <th>1591</th>\n",
       "      <td>Mitigation</td>\n",
       "      <td>enforce new development tree requirements land...</td>\n",
       "    </tr>\n",
       "  </tbody>\n",
       "</table>\n",
       "<p>1592 rows × 2 columns</p>\n",
       "</div>"
      ],
      "text/plain": [
       "           Class                                             Policy\n",
       "0     Mitigation  implement enforce title 18 chapter 18.30 secti...\n",
       "1     Mitigation  implement enforce title 18 chapter 18.30 secti...\n",
       "2     Mitigation  publicize available incentive rebate programs ...\n",
       "3     Mitigation  create citywide energy challenge similar depar...\n",
       "4     Mitigation  implement enforce title 18 chapter 18.30 secti...\n",
       "...          ...                                                ...\n",
       "1587  Mitigation  complete pv installation public works yard car...\n",
       "1588  Mitigation  join program increase grid-supply renewable ze...\n",
       "1589  Mitigation  work waste haulers set citywide solid waste re...\n",
       "1590  Mitigation  develop program track tree planting maintenanc...\n",
       "1591  Mitigation  enforce new development tree requirements land...\n",
       "\n",
       "[1592 rows x 2 columns]"
      ]
     },
     "execution_count": 37,
     "metadata": {},
     "output_type": "execute_result"
    }
   ],
   "source": [
    "data"
   ]
  },
  {
   "cell_type": "code",
   "execution_count": 38,
   "metadata": {},
   "outputs": [
    {
     "data": {
      "text/html": [
       "<div>\n",
       "<style scoped>\n",
       "    .dataframe tbody tr th:only-of-type {\n",
       "        vertical-align: middle;\n",
       "    }\n",
       "\n",
       "    .dataframe tbody tr th {\n",
       "        vertical-align: top;\n",
       "    }\n",
       "\n",
       "    .dataframe thead th {\n",
       "        text-align: right;\n",
       "    }\n",
       "</style>\n",
       "<table border=\"1\" class=\"dataframe\">\n",
       "  <thead>\n",
       "    <tr style=\"text-align: right;\">\n",
       "      <th></th>\n",
       "      <th>Class</th>\n",
       "      <th>Policy</th>\n",
       "    </tr>\n",
       "  </thead>\n",
       "  <tbody>\n",
       "    <tr>\n",
       "      <th>0</th>\n",
       "      <td>0</td>\n",
       "      <td>implement enforce title 18 chapter 18.30 secti...</td>\n",
       "    </tr>\n",
       "    <tr>\n",
       "      <th>1</th>\n",
       "      <td>0</td>\n",
       "      <td>implement enforce title 18 chapter 18.30 secti...</td>\n",
       "    </tr>\n",
       "    <tr>\n",
       "      <th>2</th>\n",
       "      <td>0</td>\n",
       "      <td>publicize available incentive rebate programs ...</td>\n",
       "    </tr>\n",
       "    <tr>\n",
       "      <th>3</th>\n",
       "      <td>0</td>\n",
       "      <td>create citywide energy challenge similar depar...</td>\n",
       "    </tr>\n",
       "    <tr>\n",
       "      <th>4</th>\n",
       "      <td>0</td>\n",
       "      <td>implement enforce title 18 chapter 18.30 secti...</td>\n",
       "    </tr>\n",
       "    <tr>\n",
       "      <th>...</th>\n",
       "      <td>...</td>\n",
       "      <td>...</td>\n",
       "    </tr>\n",
       "    <tr>\n",
       "      <th>1587</th>\n",
       "      <td>0</td>\n",
       "      <td>complete pv installation public works yard car...</td>\n",
       "    </tr>\n",
       "    <tr>\n",
       "      <th>1588</th>\n",
       "      <td>0</td>\n",
       "      <td>join program increase grid-supply renewable ze...</td>\n",
       "    </tr>\n",
       "    <tr>\n",
       "      <th>1589</th>\n",
       "      <td>0</td>\n",
       "      <td>work waste haulers set citywide solid waste re...</td>\n",
       "    </tr>\n",
       "    <tr>\n",
       "      <th>1590</th>\n",
       "      <td>0</td>\n",
       "      <td>develop program track tree planting maintenanc...</td>\n",
       "    </tr>\n",
       "    <tr>\n",
       "      <th>1591</th>\n",
       "      <td>0</td>\n",
       "      <td>enforce new development tree requirements land...</td>\n",
       "    </tr>\n",
       "  </tbody>\n",
       "</table>\n",
       "<p>1592 rows × 2 columns</p>\n",
       "</div>"
      ],
      "text/plain": [
       "      Class                                             Policy\n",
       "0         0  implement enforce title 18 chapter 18.30 secti...\n",
       "1         0  implement enforce title 18 chapter 18.30 secti...\n",
       "2         0  publicize available incentive rebate programs ...\n",
       "3         0  create citywide energy challenge similar depar...\n",
       "4         0  implement enforce title 18 chapter 18.30 secti...\n",
       "...     ...                                                ...\n",
       "1587      0  complete pv installation public works yard car...\n",
       "1588      0  join program increase grid-supply renewable ze...\n",
       "1589      0  work waste haulers set citywide solid waste re...\n",
       "1590      0  develop program track tree planting maintenanc...\n",
       "1591      0  enforce new development tree requirements land...\n",
       "\n",
       "[1592 rows x 2 columns]"
      ]
     },
     "execution_count": 38,
     "metadata": {},
     "output_type": "execute_result"
    }
   ],
   "source": [
    "data[\"Class\"] = data[\"Class\"].apply(lambda x: 1 if x ==\"Adaptation\" else 0)\n",
    "data"
   ]
  },
  {
   "cell_type": "code",
   "execution_count": 39,
   "metadata": {},
   "outputs": [
    {
     "data": {
      "text/plain": [
       "Class\n",
       "0    1402\n",
       "1     190\n",
       "Name: count, dtype: int64"
      ]
     },
     "execution_count": 39,
     "metadata": {},
     "output_type": "execute_result"
    }
   ],
   "source": [
    "#ensure that we manipulated the data properly \n",
    "data[\"Class\"].value_counts()"
   ]
  },
  {
   "cell_type": "code",
   "execution_count": 40,
   "metadata": {},
   "outputs": [],
   "source": [
    "X = data['Policy']\n",
    "y = data['Class']\n",
    "\n",
    "X_train, X_test, y_train, y_test = train_test_split(X, y, test_size=0.2, random_state=42)\n",
    "\n",
    "oversampler = RandomOverSampler(random_state=42)\n",
    "X_resampled, y_resampled = oversampler.fit_resample(X.values.reshape(-1, 1), y)\n",
    "X_resampled_df = pd.DataFrame(X_resampled)\n",
    "X_resampled = X_resampled_df.iloc[:, 0]\n",
    "X_train_resampled, X_test_resampled, y_train_resampled, y_test_resampled = train_test_split(X_resampled, y_resampled, test_size=0.2, random_state=42)\n"
   ]
  },
  {
   "cell_type": "markdown",
   "metadata": {},
   "source": [
    "# Naive Bayes"
   ]
  },
  {
   "cell_type": "code",
   "execution_count": 41,
   "metadata": {},
   "outputs": [
    {
     "name": "stdout",
     "output_type": "stream",
     "text": [
      "F1-score: 0.6050955414012739\n",
      "Accuracy: 0.9184952978056427\n"
     ]
    }
   ],
   "source": [
    "#done without oversampling\n",
    "vectorizer = CountVectorizer()\n",
    "X_nb = vectorizer.fit_transform(X)\n",
    "\n",
    "X_train_nb, X_test_nb, y_train_nb, y_test_nb = train_test_split(X_nb, y, test_size=0.2, random_state=42)\n",
    "\n",
    "clf = MultinomialNB()\n",
    "clf.fit(X_train_nb, y_train_nb)\n",
    "y_pred = clf.predict(X_test_nb)\n",
    "\n",
    "precision, recall, _, _ = precision_recall_fscore_support(y_test, y_pred, average='binary')\n",
    "accuracy = accuracy_score(y_test, y_pred)\n",
    "f1_score_nb = f1_score_adj(precision, recall)\n",
    "print(\"F1-score: \" + str(f1_score_nb) + \"\\nAccuracy: \" + str(accuracy))"
   ]
  },
  {
   "cell_type": "code",
   "execution_count": 42,
   "metadata": {},
   "outputs": [
    {
     "name": "stdout",
     "output_type": "stream",
     "text": [
      "F1-score: 0.961405926946933\n",
      "Accuracy: 0.9376114081996435\n"
     ]
    }
   ],
   "source": [
    "#done with oversampling (essentially, i am sampling more from the adaptation class than the mitigation class)\n",
    "vectorizer = CountVectorizer()\n",
    "X_nb = vectorizer.fit_transform(pd.Series(X_resampled))\n",
    "\n",
    "X_train_nb, X_test_nb, y_train_nb, y_test_nb = train_test_split(X_nb, y_resampled, test_size=0.2, random_state=42)\n",
    "\n",
    "clf = MultinomialNB()\n",
    "clf.fit(X_train_nb, y_train_nb)\n",
    "y_pred = clf.predict(X_test_nb)\n",
    "\n",
    "precision, recall, _, _ = precision_recall_fscore_support(y_test_nb, y_pred, average='binary')\n",
    "accuracy = accuracy_score(y_test_nb, y_pred)\n",
    "f1_score_nb = f1_score_adj(precision, recall)\n",
    "print(\"F1-score: \" + str(f1_score_nb) + \"\\nAccuracy: \" + str(accuracy))\n"
   ]
  },
  {
   "cell_type": "markdown",
   "metadata": {},
   "source": [
    "Since the oversampling F1-score is a lot better, we will use that. Naive Bayes will use oversampling! Notice the accuracy is better without oversampling, but that is due to the imbalance in the dataset"
   ]
  },
  {
   "cell_type": "markdown",
   "metadata": {},
   "source": [
    "# Logistic Regression"
   ]
  },
  {
   "cell_type": "code",
   "execution_count": 43,
   "metadata": {},
   "outputs": [
    {
     "name": "stdout",
     "output_type": "stream",
     "text": [
      "F1-score: 0.23076923076923078\n",
      "Accuracy: 0.9216300940438872\n"
     ]
    }
   ],
   "source": [
    "vectorizer = TfidfVectorizer()\n",
    "X_train_vec = vectorizer.fit_transform(X_train)\n",
    "X_test_vec = vectorizer.transform(X_test)\n",
    "\n",
    "model = LogisticRegression()\n",
    "model.fit(X_train_vec, y_train)\n",
    "y_pred = model.predict(X_test_vec)\n",
    "\n",
    "precision, recall, _, _ = precision_recall_fscore_support(y_test, y_pred, average='binary')\n",
    "accuracy = accuracy_score(y_test, y_pred)\n",
    "f1_score_nb = f1_score_adj(precision, recall)\n",
    "print(\"F1-score: \" + str(f1_score_nb) + \"\\nAccuracy: \" + str(accuracy))"
   ]
  },
  {
   "cell_type": "code",
   "execution_count": 44,
   "metadata": {},
   "outputs": [
    {
     "name": "stdout",
     "output_type": "stream",
     "text": [
      "F1-score: 0.9785615491009683\n",
      "Accuracy: 0.9607843137254902\n"
     ]
    }
   ],
   "source": [
    "vectorizer = TfidfVectorizer()\n",
    "X_train_vec = vectorizer.fit_transform(X_train_resampled)\n",
    "X_test_vec = vectorizer.transform(X_test_resampled)\n",
    "\n",
    "model = LogisticRegression()\n",
    "model.fit(X_train_vec, y_train_resampled)\n",
    "y_pred = model.predict(X_test_vec)\n",
    "\n",
    "precision, recall, _, _ = precision_recall_fscore_support(y_test_resampled, y_pred, average='binary')\n",
    "accuracy = accuracy_score(y_test_resampled, y_pred)\n",
    "f1_score_nb = f1_score_adj(precision, recall)\n",
    "print(\"F1-score: \" + str(f1_score_nb) + \"\\nAccuracy: \" + str(accuracy))"
   ]
  },
  {
   "cell_type": "code",
   "execution_count": null,
   "metadata": {},
   "outputs": [],
   "source": []
  },
  {
   "cell_type": "code",
   "execution_count": null,
   "metadata": {},
   "outputs": [],
   "source": []
  }
 ],
 "metadata": {
  "kernelspec": {
   "display_name": "base",
   "language": "python",
   "name": "python3"
  },
  "language_info": {
   "codemirror_mode": {
    "name": "ipython",
    "version": 3
   },
   "file_extension": ".py",
   "mimetype": "text/x-python",
   "name": "python",
   "nbconvert_exporter": "python",
   "pygments_lexer": "ipython3",
   "version": "3.11.5"
  }
 },
 "nbformat": 4,
 "nbformat_minor": 2
}
